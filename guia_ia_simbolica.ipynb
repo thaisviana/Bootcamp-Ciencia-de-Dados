{
  "nbformat": 4,
  "nbformat_minor": 0,
  "metadata": {
    "colab": {
      "name": "guia_ia_simbolica.ipynb",
      "provenance": [],
      "authorship_tag": "ABX9TyNbMrvY45BZJ9B6bOUbvlQg",
      "include_colab_link": true
    },
    "kernelspec": {
      "name": "python3",
      "display_name": "Python 3"
    }
  },
  "cells": [
    {
      "cell_type": "markdown",
      "metadata": {
        "id": "view-in-github",
        "colab_type": "text"
      },
      "source": [
        "<a href=\"https://colab.research.google.com/github/thaisviana/Bootcamp-Ciencia-de-Dados/blob/master/guia_ia_simbolica.ipynb\" target=\"_parent\"><img src=\"https://colab.research.google.com/assets/colab-badge.svg\" alt=\"Open In Colab\"/></a>"
      ]
    },
    {
      "cell_type": "markdown",
      "metadata": {
        "id": "GfPEvKhJL50j",
        "colab_type": "text"
      },
      "source": [
        "# Inteligência Artificial Simbólica: Fundamentos\n",
        "#### 20GRPEDS01BIA10120E1_1"
      ]
    },
    {
      "cell_type": "markdown",
      "metadata": {
        "id": "67JS5wmKMTsZ",
        "colab_type": "text"
      },
      "source": [
        "##**Roteiro**\n",
        "\n",
        "1. Introdução à Inteligência Artificial\n",
        "2. Lógica Tradicional - Dedução Natural\n",
        "3. Agentes Inteligentes\n",
        "4. Python Númerico\n",
        "5. Pandas\n"
      ]
    },
    {
      "cell_type": "markdown",
      "metadata": {
        "id": "kKspxbpuM3Ko",
        "colab_type": "text"
      },
      "source": [
        "##**Referências**\n",
        "\n",
        "* [Artificial Intelligence : A modern approach| Stuart Russell, Peter Norvig](https://www.cin.ufpe.br/~tfl2/artificial-intelligence-modern-approach.9780131038059.25368.pdf)\n",
        "* [Apostila de Lógica| Benevides](https://drive.google.com/open?id=10tMctdWsJp_jxNH71JkK5Sq7n0l2R0_-)\n",
        "* [Python for Data Analysis, 2nd Edition | Wes McKinney](https://learning.oreilly.com/library/view/python-for-data/9781491957653/)\n",
        "* [Fluent Python | Luciano Ramalho](https://learning.oreilly.com/library/view/fluent-python/9781491946237/)\n",
        "\n",
        "##**Cursos Sugeridos**\n",
        "* [UDACITY : Intro a IA com Peter Norvig e Sebastian Thrun](https://www.udacity.com/course/intro-to-artificial-intelligence--cs271)\n",
        "* [MIT Open Course Ware : Artificial Intelligence](https://ocw.mit.edu/courses/electrical-engineering-and-computer-science/6-034-artificial-intelligence-fall-2010/lecture-videos/)\n",
        "* [EDX: Intro a IA](https://courses.edx.org/courses/course-v1:ColumbiaX+CSMM.101x+3T2019/course/)\n"
      ]
    },
    {
      "cell_type": "markdown",
      "metadata": {
        "id": "9qf-FqK5OBTc",
        "colab_type": "text"
      },
      "source": [
        "##**Introdução à Inteligência Artificial**\n",
        "\n",
        "Conteúdo:\n",
        "Primeiro capítulo do livro texto de referência da disciplina, Artificial Intelligence : A modern approach| Stuart Russell, Peter Norvig.\n"
      ]
    },
    {
      "cell_type": "markdown",
      "metadata": {
        "id": "EVUrH7ymOTnB",
        "colab_type": "text"
      },
      "source": [
        "##**Lógica Tradicional - Dedução Natural**\n",
        "\n",
        "Conteúdo: Primeiro e segundo capítulos da apostila do professor Benevides da UFRJ, listada nas referências.\n",
        "\n"
      ]
    },
    {
      "cell_type": "markdown",
      "metadata": {
        "id": "Um3nnb-JQSaN",
        "colab_type": "text"
      },
      "source": [
        "## Lista de exercicios : \n",
        "\n",
        "QUESTÃO 1:\n",
        "\n",
        "1. A → B\n",
        "2. B → C\n",
        "3. A\n",
        "\n",
        "|- C\n",
        "\n",
        "-------------------------------\n",
        "4. B   E→(3,1)\n",
        "5. C   E→(4,2)\n",
        "\n",
        "\n",
        "\n",
        "QUESTÃO 2:\n",
        "\n",
        "1. A v B\n",
        "2. A → C\n",
        "3. B → C\n",
        "\n",
        "|- C\n",
        "\n",
        "-------------------------------\n",
        "\n",
        "4. [A]      \t\tSup\n",
        "\t4.1 C \tE→(4,2)\n",
        "5. [B]      \t\tSup\n",
        "    5.1 C\t\tE→(5,3)\n",
        "\n",
        "\n",
        "\n",
        "\n",
        "QUESTÃO 3:\n",
        "\n",
        "1. P → Q\n",
        "2. ¬Q\n",
        "|- ¬P\n",
        "__________________\n",
        "3. ¬P E→(2,1)\n",
        "\n",
        "\n",
        "\n",
        "QUESTÃO 4:\n",
        "\n",
        "1. P^Q\n",
        "2. R\n",
        "|- Q^R\n",
        "___________________\n",
        "3. Q    E^(1)\n",
        "4. Q^R  I^(3, 2)"
      ]
    },
    {
      "cell_type": "markdown",
      "metadata": {
        "id": "-wdREH0DQX76",
        "colab_type": "text"
      },
      "source": [
        "## Segunda Lista de Exercícios:\n",
        "\n",
        "Questão 1\n",
        "1. P^Q\n",
        "2. R\n",
        "|- Q ^ R\n",
        "________________\n",
        "3. Q                E^(1)\n",
        "4. Q ^ R          I^(3,2)\n",
        "\n",
        "\n",
        "Questão 2\n",
        "\n",
        "1. P -> Q\n",
        "2. ¬Q\n",
        "|- ¬P\n",
        "___________\n",
        "3. P          Prova por contradição\n",
        "4. Q               E->(3,1) \n",
        "5. Q ^ ¬Q      I^(2,4)\n",
        "Contradição \n",
        "\n",
        "\n",
        "Questão 3\n",
        "\n",
        "1. A v B\n",
        "2. A -> C\n",
        "3. B -> C\n",
        "|- C\n",
        "___________\n",
        "4. [A]           Sup\n",
        "     4.1. C     E->(4,2)\n",
        "5.[B]           Sup\n",
        "    5.1. C     E->(5,3)\n",
        "6. C\n",
        "\n",
        "\n",
        "Questão 4\n",
        "\n",
        "1. A -> B\n",
        "2. B -> C\n",
        "3. A\n",
        "|- C\n",
        "________________\n",
        "4. B                  Eliminação -> (3,1)\n",
        "5. C                  Eliminação -> (4,2) \n",
        "\n",
        "\n",
        "Questão 5\n",
        "\n",
        "1. A ^ B\n",
        " 2. A -> C     \n",
        "3. C -> D\n",
        "\n",
        "|- D\n",
        "________________\n",
        "4. A                  Eliminação^(1) \n",
        "5. C                  Eliminação -> (4,2) \n",
        "6. D                  Eliminação -> (5,3) "
      ]
    },
    {
      "cell_type": "markdown",
      "metadata": {
        "id": "_Wt2jV1VQX_i",
        "colab_type": "text"
      },
      "source": [
        "Material de Apoio:\n",
        "[Slide de Dedução Natual](https://docs.google.com/presentation/d/1zYH5oQ2eOQpCYxtzs5NvMUVHNOCsMsktk0yqOcipo6s/edit?usp=sharing)"
      ]
    },
    {
      "cell_type": "markdown",
      "metadata": {
        "id": "RH0C6dW2RCHm",
        "colab_type": "text"
      },
      "source": [
        "##**Agentes Inteligentes**\n",
        "\n",
        "Conteúdo:\n",
        "Segundo capítulo do livro texto de referência da disciplina, Artificial Intelligence : A modern approach| Stuart Russell, Peter Norvig.\n",
        "\n"
      ]
    },
    {
      "cell_type": "markdown",
      "metadata": {
        "id": "5JGUYQjNRQ0-",
        "colab_type": "text"
      },
      "source": [
        "Material de Apoio: [Slide Agentes Inteligentes](https://drive.google.com/open?id=1RZhvewBIRWQ_4Lr7rj0O4OktEiifUHqAXN0b6_2UKvI)"
      ]
    },
    {
      "cell_type": "markdown",
      "metadata": {
        "id": "99xAuC8KRhGy",
        "colab_type": "text"
      },
      "source": [
        "##**Python Numérico**\n",
        "\n",
        "Conteúdo:\n",
        "Quarto capítulo do livro texto de referência da disciplina, Python for Data Analysis, 2nd Edition | Wes McKinney\n",
        "\n",
        "Material de Apoio: [Slide de numpy](https://github.com/thaisviana/Bootcamp-Ciencia-de-Dados/blob/master/Turma%20%231/numpy-bootcamp%20(1).pdf)"
      ]
    },
    {
      "cell_type": "markdown",
      "metadata": {
        "id": "tRik52apSJbF",
        "colab_type": "text"
      },
      "source": [
        "##**Pandas**\n",
        "\n",
        "\n",
        "Conteúdo:\n",
        "Quinto e sexto capítulos do livro texto de referência da disciplina, Python for Data Analysis, 2nd Edition | Wes McKinney"
      ]
    }
  ]
}